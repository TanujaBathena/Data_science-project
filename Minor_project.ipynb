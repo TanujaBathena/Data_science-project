{
 "cells": [
  {
   "cell_type": "code",
   "execution_count": 1,
   "metadata": {},
   "outputs": [
    {
     "data": {
      "text/html": [
       "<div>\n",
       "<style scoped>\n",
       "    .dataframe tbody tr th:only-of-type {\n",
       "        vertical-align: middle;\n",
       "    }\n",
       "\n",
       "    .dataframe tbody tr th {\n",
       "        vertical-align: top;\n",
       "    }\n",
       "\n",
       "    .dataframe thead th {\n",
       "        text-align: right;\n",
       "    }\n",
       "</style>\n",
       "<table border=\"1\" class=\"dataframe\">\n",
       "  <thead>\n",
       "    <tr style=\"text-align: right;\">\n",
       "      <th></th>\n",
       "      <th>gender</th>\n",
       "      <th>race/ethnicity</th>\n",
       "      <th>parental level of education</th>\n",
       "      <th>lunch</th>\n",
       "      <th>test preparation course</th>\n",
       "      <th>math score</th>\n",
       "      <th>reading score</th>\n",
       "      <th>writing score</th>\n",
       "    </tr>\n",
       "  </thead>\n",
       "  <tbody>\n",
       "    <tr>\n",
       "      <th>0</th>\n",
       "      <td>female</td>\n",
       "      <td>group B</td>\n",
       "      <td>bachelor's degree</td>\n",
       "      <td>standard</td>\n",
       "      <td>none</td>\n",
       "      <td>72</td>\n",
       "      <td>72</td>\n",
       "      <td>74</td>\n",
       "    </tr>\n",
       "    <tr>\n",
       "      <th>1</th>\n",
       "      <td>female</td>\n",
       "      <td>group C</td>\n",
       "      <td>some college</td>\n",
       "      <td>standard</td>\n",
       "      <td>completed</td>\n",
       "      <td>69</td>\n",
       "      <td>90</td>\n",
       "      <td>88</td>\n",
       "    </tr>\n",
       "    <tr>\n",
       "      <th>2</th>\n",
       "      <td>female</td>\n",
       "      <td>group B</td>\n",
       "      <td>master's degree</td>\n",
       "      <td>standard</td>\n",
       "      <td>none</td>\n",
       "      <td>90</td>\n",
       "      <td>95</td>\n",
       "      <td>93</td>\n",
       "    </tr>\n",
       "    <tr>\n",
       "      <th>3</th>\n",
       "      <td>male</td>\n",
       "      <td>group A</td>\n",
       "      <td>associate's degree</td>\n",
       "      <td>free/reduced</td>\n",
       "      <td>none</td>\n",
       "      <td>47</td>\n",
       "      <td>57</td>\n",
       "      <td>44</td>\n",
       "    </tr>\n",
       "    <tr>\n",
       "      <th>4</th>\n",
       "      <td>male</td>\n",
       "      <td>group C</td>\n",
       "      <td>some college</td>\n",
       "      <td>standard</td>\n",
       "      <td>none</td>\n",
       "      <td>76</td>\n",
       "      <td>78</td>\n",
       "      <td>75</td>\n",
       "    </tr>\n",
       "  </tbody>\n",
       "</table>\n",
       "</div>"
      ],
      "text/plain": [
       "   gender race/ethnicity parental level of education         lunch  \\\n",
       "0  female        group B           bachelor's degree      standard   \n",
       "1  female        group C                some college      standard   \n",
       "2  female        group B             master's degree      standard   \n",
       "3    male        group A          associate's degree  free/reduced   \n",
       "4    male        group C                some college      standard   \n",
       "\n",
       "  test preparation course  math score  reading score  writing score  \n",
       "0                    none          72             72             74  \n",
       "1               completed          69             90             88  \n",
       "2                    none          90             95             93  \n",
       "3                    none          47             57             44  \n",
       "4                    none          76             78             75  "
      ]
     },
     "execution_count": 1,
     "metadata": {},
     "output_type": "execute_result"
    }
   ],
   "source": [
    "#importing necessary pacakages\n",
    "import numpy as np\n",
    "import pandas as pd \n",
    "import matplotlib.pyplot as plt\n",
    "import seaborn as sns\n",
    "#Reading the first five 5 rows from the data\n",
    "df = pd.read_csv(r\"C:\\Users\\bathena naga tanuja\\Documents\\StudentsPerformance (1).csv\")\n",
    "df.head()"
   ]
  },
  {
   "cell_type": "markdown",
   "metadata": {},
   "source": [
    "# Analysing the given dataframe :"
   ]
  },
  {
   "cell_type": "code",
   "execution_count": 2,
   "metadata": {},
   "outputs": [
    {
     "name": "stdout",
     "output_type": "stream",
     "text": [
      "(1000, 8)\n",
      "8000\n",
      "<class 'pandas.core.frame.DataFrame'>\n",
      "RangeIndex: 1000 entries, 0 to 999\n",
      "Data columns (total 8 columns):\n",
      " #   Column                       Non-Null Count  Dtype \n",
      "---  ------                       --------------  ----- \n",
      " 0   gender                       1000 non-null   object\n",
      " 1   race/ethnicity               1000 non-null   object\n",
      " 2   parental level of education  1000 non-null   object\n",
      " 3   lunch                        1000 non-null   object\n",
      " 4   test preparation course      1000 non-null   object\n",
      " 5   math score                   1000 non-null   int64 \n",
      " 6   reading score                1000 non-null   int64 \n",
      " 7   writing score                1000 non-null   int64 \n",
      "dtypes: int64(3), object(5)\n",
      "memory usage: 62.6+ KB\n",
      "None\n"
     ]
    },
    {
     "data": {
      "text/html": [
       "<div>\n",
       "<style scoped>\n",
       "    .dataframe tbody tr th:only-of-type {\n",
       "        vertical-align: middle;\n",
       "    }\n",
       "\n",
       "    .dataframe tbody tr th {\n",
       "        vertical-align: top;\n",
       "    }\n",
       "\n",
       "    .dataframe thead th {\n",
       "        text-align: right;\n",
       "    }\n",
       "</style>\n",
       "<table border=\"1\" class=\"dataframe\">\n",
       "  <thead>\n",
       "    <tr style=\"text-align: right;\">\n",
       "      <th></th>\n",
       "      <th>math score</th>\n",
       "      <th>reading score</th>\n",
       "      <th>writing score</th>\n",
       "    </tr>\n",
       "  </thead>\n",
       "  <tbody>\n",
       "    <tr>\n",
       "      <th>count</th>\n",
       "      <td>1000.00000</td>\n",
       "      <td>1000.000000</td>\n",
       "      <td>1000.000000</td>\n",
       "    </tr>\n",
       "    <tr>\n",
       "      <th>mean</th>\n",
       "      <td>66.08900</td>\n",
       "      <td>69.169000</td>\n",
       "      <td>68.054000</td>\n",
       "    </tr>\n",
       "    <tr>\n",
       "      <th>std</th>\n",
       "      <td>15.16308</td>\n",
       "      <td>14.600192</td>\n",
       "      <td>15.195657</td>\n",
       "    </tr>\n",
       "    <tr>\n",
       "      <th>min</th>\n",
       "      <td>0.00000</td>\n",
       "      <td>17.000000</td>\n",
       "      <td>10.000000</td>\n",
       "    </tr>\n",
       "    <tr>\n",
       "      <th>25%</th>\n",
       "      <td>57.00000</td>\n",
       "      <td>59.000000</td>\n",
       "      <td>57.750000</td>\n",
       "    </tr>\n",
       "    <tr>\n",
       "      <th>50%</th>\n",
       "      <td>66.00000</td>\n",
       "      <td>70.000000</td>\n",
       "      <td>69.000000</td>\n",
       "    </tr>\n",
       "    <tr>\n",
       "      <th>75%</th>\n",
       "      <td>77.00000</td>\n",
       "      <td>79.000000</td>\n",
       "      <td>79.000000</td>\n",
       "    </tr>\n",
       "    <tr>\n",
       "      <th>max</th>\n",
       "      <td>100.00000</td>\n",
       "      <td>100.000000</td>\n",
       "      <td>100.000000</td>\n",
       "    </tr>\n",
       "  </tbody>\n",
       "</table>\n",
       "</div>"
      ],
      "text/plain": [
       "       math score  reading score  writing score\n",
       "count  1000.00000    1000.000000    1000.000000\n",
       "mean     66.08900      69.169000      68.054000\n",
       "std      15.16308      14.600192      15.195657\n",
       "min       0.00000      17.000000      10.000000\n",
       "25%      57.00000      59.000000      57.750000\n",
       "50%      66.00000      70.000000      69.000000\n",
       "75%      77.00000      79.000000      79.000000\n",
       "max     100.00000     100.000000     100.000000"
      ]
     },
     "execution_count": 2,
     "metadata": {},
     "output_type": "execute_result"
    }
   ],
   "source": [
    "print(df.shape)\n",
    "print(df.size)\n",
    "print(df.info())\n",
    "df.describe()     #Last line is printed by default hence print statement is not required"
   ]
  },
  {
   "cell_type": "code",
   "execution_count": 3,
   "metadata": {},
   "outputs": [
    {
     "data": {
      "text/plain": [
       "gender                         0\n",
       "race/ethnicity                 0\n",
       "parental level of education    0\n",
       "lunch                          0\n",
       "test preparation course        0\n",
       "math score                     0\n",
       "reading score                  0\n",
       "writing score                  0\n",
       "dtype: int64"
      ]
     },
     "execution_count": 3,
     "metadata": {},
     "output_type": "execute_result"
    }
   ],
   "source": [
    "#Checking for Null values in the given data\n",
    "df.isnull().sum()"
   ]
  },
  {
   "cell_type": "markdown",
   "metadata": {},
   "source": [
    "This means that there are no null values in the given data in any column."
   ]
  },
  {
   "cell_type": "code",
   "execution_count": 4,
   "metadata": {},
   "outputs": [
    {
     "data": {
      "image/png": "[encoded data removed]",
      "text/plain": [
       "<Figure size 432x288 with 1 Axes>"
      ]
     },
     "metadata": {
      "needs_background": "light"
     },
     "output_type": "display_data"
    }
   ],
   "source": [
    "#Brief outlook of the given dataframe \n",
    "plt.hist([df['math score'],df['reading score'],df['writing score']], color=['orange', 'blue', 'green'])\n",
    "plt.title('Number of Students against Scores')\n",
    "plt.xlabel('Score')\n",
    "plt.ylabel('Number of Students')\n",
    "plt.legend(['Math', 'Reading', 'Writing'])\n",
    "plt.grid(True)\n",
    "plt.show()"
   ]
  },
  {
   "cell_type": "code",
   "execution_count": 5,
   "metadata": {},
   "outputs": [
    {
     "data": {
      "image/png": "[encoded data removed]",
      "text/plain": [
       "<Figure size 864x144 with 1 Axes>"
      ]
     },
     "metadata": {
      "needs_background": "light"
     },
     "output_type": "display_data"
    }
   ],
   "source": [
    "#Calculating the average score in each subject:\n",
    "y = ['Math','Reading','Writing']\n",
    "width = [df['math score'].mean(),df['reading score'].mean(),df['writing score'].mean()]\n",
    "plt.figure(figsize = (12,2))\n",
    "plt.barh(y = y,width = width,color='green')\n",
    "plt.title('Average Scores')\n",
    "plt.xlabel('Average Score')\n",
    "plt.ylabel('Subjects')\n",
    "for i,v in enumerate(width):\n",
    "    plt.text(v, i, \" \"+str(round(v,2)), color='blue', va='center', fontweight='bold')\n",
    "plt.show()"
   ]
  },
  {
   "cell_type": "markdown",
   "metadata": {},
   "source": [
    "It is clear from the above two plots that the No.of students who has high score in Maths has dropped below reading and writing. Also the average score in Maths is less that both reading and writing. From this we may infer that scoring in maths is more difficult that reading and writing."
   ]
  },
  {
   "cell_type": "code",
   "execution_count": 6,
   "metadata": {},
   "outputs": [
    {
     "data": {
      "text/html": [
       "<div>\n",
       "<style scoped>\n",
       "    .dataframe tbody tr th:only-of-type {\n",
       "        vertical-align: middle;\n",
       "    }\n",
       "\n",
       "    .dataframe tbody tr th {\n",
       "        vertical-align: top;\n",
       "    }\n",
       "\n",
       "    .dataframe thead th {\n",
       "        text-align: right;\n",
       "    }\n",
       "</style>\n",
       "<table border=\"1\" class=\"dataframe\">\n",
       "  <thead>\n",
       "    <tr style=\"text-align: right;\">\n",
       "      <th></th>\n",
       "      <th>gender</th>\n",
       "      <th>race/ethnicity</th>\n",
       "      <th>parental level of education</th>\n",
       "      <th>lunch</th>\n",
       "      <th>test preparation course</th>\n",
       "      <th>math score</th>\n",
       "      <th>reading score</th>\n",
       "      <th>writing score</th>\n",
       "    </tr>\n",
       "  </thead>\n",
       "  <tbody>\n",
       "    <tr>\n",
       "      <th>7</th>\n",
       "      <td>male</td>\n",
       "      <td>group B</td>\n",
       "      <td>some college</td>\n",
       "      <td>free/reduced</td>\n",
       "      <td>none</td>\n",
       "      <td>40</td>\n",
       "      <td>43</td>\n",
       "      <td>39</td>\n",
       "    </tr>\n",
       "    <tr>\n",
       "      <th>9</th>\n",
       "      <td>female</td>\n",
       "      <td>group B</td>\n",
       "      <td>high school</td>\n",
       "      <td>free/reduced</td>\n",
       "      <td>none</td>\n",
       "      <td>38</td>\n",
       "      <td>60</td>\n",
       "      <td>50</td>\n",
       "    </tr>\n",
       "    <tr>\n",
       "      <th>17</th>\n",
       "      <td>female</td>\n",
       "      <td>group B</td>\n",
       "      <td>some high school</td>\n",
       "      <td>free/reduced</td>\n",
       "      <td>none</td>\n",
       "      <td>18</td>\n",
       "      <td>32</td>\n",
       "      <td>28</td>\n",
       "    </tr>\n",
       "    <tr>\n",
       "      <th>33</th>\n",
       "      <td>male</td>\n",
       "      <td>group D</td>\n",
       "      <td>some college</td>\n",
       "      <td>standard</td>\n",
       "      <td>none</td>\n",
       "      <td>40</td>\n",
       "      <td>42</td>\n",
       "      <td>38</td>\n",
       "    </tr>\n",
       "    <tr>\n",
       "      <th>55</th>\n",
       "      <td>female</td>\n",
       "      <td>group C</td>\n",
       "      <td>high school</td>\n",
       "      <td>free/reduced</td>\n",
       "      <td>none</td>\n",
       "      <td>33</td>\n",
       "      <td>41</td>\n",
       "      <td>43</td>\n",
       "    </tr>\n",
       "  </tbody>\n",
       "</table>\n",
       "</div>"
      ],
      "text/plain": [
       "    gender race/ethnicity parental level of education         lunch  \\\n",
       "7     male        group B                some college  free/reduced   \n",
       "9   female        group B                 high school  free/reduced   \n",
       "17  female        group B            some high school  free/reduced   \n",
       "33    male        group D                some college      standard   \n",
       "55  female        group C                 high school  free/reduced   \n",
       "\n",
       "   test preparation course  math score  reading score  writing score  \n",
       "7                     none          40             43             39  \n",
       "9                     none          38             60             50  \n",
       "17                    none          18             32             28  \n",
       "33                    none          40             42             38  \n",
       "55                    none          33             41             43  "
      ]
     },
     "execution_count": 6,
     "metadata": {},
     "output_type": "execute_result"
    }
   ],
   "source": [
    "df_fail = df[(df['math score'] < 40) | (df['reading score'] < 40) | (df['writing score'] < 40)]\n",
    "df_fail.head()"
   ]
  },
  {
   "cell_type": "code",
   "execution_count": 7,
   "metadata": {},
   "outputs": [
    {
     "data": {
      "image/png": "[encoded data removed]",
      "text/plain": [
       "<Figure size 720x144 with 1 Axes>"
      ]
     },
     "metadata": {
      "needs_background": "light"
     },
     "output_type": "display_data"
    }
   ],
   "source": [
    "width = [df_fail[df_fail['math score'] < 40]['gender'].count(), df_fail[df_fail['reading score']< 40]['gender'] .count(), \n",
    "    df_fail[df_fail['writing score'] < 40]['gender'] .count()]\n",
    "\n",
    "y = ['math','reading','writing']\n",
    "\n",
    "plt.figure(figsize = (10,2))\n",
    "plt.barh(y = y,width = width)\n",
    "plt.title('No. of students who failed in individual subjects')\n",
    "plt.xlabel('Count')\n",
    "plt.ylabel('Subject')\n",
    "for i,v in enumerate(width):\n",
    "    plt.text(v, i, \" \"+str(v), color='blue', va='center', fontweight='bold')\n",
    "plt.show()"
   ]
  },
  {
   "cell_type": "markdown",
   "metadata": {},
   "source": [
    "This plot supports the fact that it is difficult to score in Maths than both Reading and Writing"
   ]
  },
  {
   "cell_type": "markdown",
   "metadata": {},
   "source": [
    "# Covariance and Correlation"
   ]
  },
  {
   "cell_type": "code",
   "execution_count": 8,
   "metadata": {},
   "outputs": [
    {
     "data": {
      "text/plain": [
       "Text(0.5, 1, 'Covariance Plot')"
      ]
     },
     "execution_count": 8,
     "metadata": {},
     "output_type": "execute_result"
    },
    {
     "data": {
      "image/png": "[encoded data removed]",
      "text/plain": [
       "<Figure size 432x288 with 2 Axes>"
      ]
     },
     "metadata": {
      "needs_background": "light"
     },
     "output_type": "display_data"
    }
   ],
   "source": [
    "#Covariance plot\n",
    "sns.heatmap(df.corr())\n",
    "plt.title('Covariance Plot')"
   ]
  },
  {
   "cell_type": "code",
   "execution_count": 9,
   "metadata": {},
   "outputs": [
    {
     "data": {
      "text/html": [
       "<div>\n",
       "<style scoped>\n",
       "    .dataframe tbody tr th:only-of-type {\n",
       "        vertical-align: middle;\n",
       "    }\n",
       "\n",
       "    .dataframe tbody tr th {\n",
       "        vertical-align: top;\n",
       "    }\n",
       "\n",
       "    .dataframe thead th {\n",
       "        text-align: right;\n",
       "    }\n",
       "</style>\n",
       "<table border=\"1\" class=\"dataframe\">\n",
       "  <thead>\n",
       "    <tr style=\"text-align: right;\">\n",
       "      <th></th>\n",
       "      <th>math score</th>\n",
       "      <th>reading score</th>\n",
       "      <th>writing score</th>\n",
       "    </tr>\n",
       "  </thead>\n",
       "  <tbody>\n",
       "    <tr>\n",
       "      <th>math score</th>\n",
       "      <td>1.000000</td>\n",
       "      <td>0.817580</td>\n",
       "      <td>0.802642</td>\n",
       "    </tr>\n",
       "    <tr>\n",
       "      <th>reading score</th>\n",
       "      <td>0.817580</td>\n",
       "      <td>1.000000</td>\n",
       "      <td>0.954598</td>\n",
       "    </tr>\n",
       "    <tr>\n",
       "      <th>writing score</th>\n",
       "      <td>0.802642</td>\n",
       "      <td>0.954598</td>\n",
       "      <td>1.000000</td>\n",
       "    </tr>\n",
       "  </tbody>\n",
       "</table>\n",
       "</div>"
      ],
      "text/plain": [
       "               math score  reading score  writing score\n",
       "math score       1.000000       0.817580       0.802642\n",
       "reading score    0.817580       1.000000       0.954598\n",
       "writing score    0.802642       0.954598       1.000000"
      ]
     },
     "execution_count": 9,
     "metadata": {},
     "output_type": "execute_result"
    }
   ],
   "source": [
    "#Correlation among numeric columns\n",
    "df.corr()"
   ]
  },
  {
   "cell_type": "code",
   "execution_count": 10,
   "metadata": {},
   "outputs": [
    {
     "data": {
      "image/png": "[encoded data removed]",
      "text/plain": [
       "<Figure size 1440x576 with 3 Axes>"
      ]
     },
     "metadata": {
      "needs_background": "light"
     },
     "output_type": "display_data"
    }
   ],
   "source": [
    "#Scatter plot of scores in different subjects to visualize correlation among them\n",
    "plt.figure(figsize = (20,8))\n",
    "\n",
    "plt.subplot(1,3,1)\n",
    "plt.scatter(df['math score'],df['reading score'],color='purple')\n",
    "plt.title('Math scores vs Reading scores')\n",
    "plt.xlabel('Math score')\n",
    "plt.ylabel('Reading score')\n",
    "plt.grid(True)\n",
    "\n",
    "plt.subplot(1,3,2)\n",
    "plt.scatter(df['reading score'],df['writing score'],color='orange')\n",
    "plt.title('Reading scores vs Writing scores')\n",
    "plt.xlabel('Reading score')\n",
    "plt.ylabel('Writing score')\n",
    "plt.grid(True)\n",
    "\n",
    "plt.subplot(1,3,3)\n",
    "plt.scatter(df['writing score'],df['math score'],color='green')\n",
    "plt.title('Writing scores vs Math scores')\n",
    "plt.xlabel('Writing score')\n",
    "plt.ylabel('Math score')\n",
    "plt.grid(True)\n",
    "\n",
    "plt.show()\n"
   ]
  },
  {
   "cell_type": "raw",
   "metadata": {},
   "source": [
    "From the above output and the scatter plot it is observable that reading vs writing scatter plot is much more denser than reading vs maths or writing vs maths which shows higher correalation among them which indicates that students better in reading(or writing) are better in writing(or reading)."
   ]
  },
  {
   "cell_type": "markdown",
   "metadata": {},
   "source": [
    "# Analysis of data on gender basis"
   ]
  },
  {
   "cell_type": "code",
   "execution_count": 11,
   "metadata": {},
   "outputs": [],
   "source": [
    "df_gender = df.groupby('gender')"
   ]
  },
  {
   "cell_type": "code",
   "execution_count": 12,
   "metadata": {},
   "outputs": [
    {
     "data": {
      "image/png": "[encoded data removed]",
      "text/plain": [
       "<Figure size 864x144 with 1 Axes>"
      ]
     },
     "metadata": {
      "needs_background": "light"
     },
     "output_type": "display_data"
    }
   ],
   "source": [
    "#Just a count on Number of Males and Females\n",
    "y = df_gender['gender'].count().keys()\n",
    "width = df_gender['gender'].count()\n",
    "plt.figure(figsize = (12,2))\n",
    "plt.barh(y = y, width = width,color='green')\n",
    "plt.title('No. of Females and Males')\n",
    "plt.xlabel('Count')\n",
    "plt.ylabel('Gender')\n",
    "for i,v in enumerate(width):\n",
    "    plt.text(v, i, \" \"+str(v), color='purple', va='center', fontweight='bold')\n",
    "plt.show()"
   ]
  },
  {
   "cell_type": "code",
   "execution_count": 13,
   "metadata": {},
   "outputs": [
    {
     "data": {
      "image/png": "[encoded data removed]",
      "text/plain": [
       "<Figure size 864x288 with 3 Axes>"
      ]
     },
     "metadata": {
      "needs_background": "light"
     },
     "output_type": "display_data"
    }
   ],
   "source": [
    "# Average scores in each subject for males and females\n",
    "x = df_gender['gender'].count().keys()\n",
    "\n",
    "plt.figure(figsize=(12,4))\n",
    "\n",
    "plt.subplot(1,3,1)\n",
    "height = df_gender['math score'].mean()\n",
    "plt.bar(x = x,height = height,color='lightgreen',width=0.6)\n",
    "plt.title('Av. Math Score')\n",
    "plt.xlabel('Gender')\n",
    "plt.ylabel('Av. Math Score')\n",
    "for i,v in enumerate(height):\n",
    "    plt.text(i, v, \" \"+str(round(v,2)), color='k', ha='center', fontweight='bold')\n",
    "\n",
    "plt.subplot(1,3,2)\n",
    "height = df_gender['reading score'].mean()\n",
    "plt.bar(x = x,height = height,width=0.6)\n",
    "plt.title('Av. Reading Score')\n",
    "plt.xlabel('Gender')\n",
    "plt.ylabel('Av. Reading Score')\n",
    "for i,v in enumerate(height):\n",
    "    plt.text(i, v, \" \"+str(round(v,2)), color='k', ha='center', fontweight='bold')\n",
    "\n",
    "plt.subplot(1,3,3)\n",
    "height = df_gender['writing score'].mean()\n",
    "plt.bar(x = x,height = height,color='m',width=0.6)\n",
    "plt.title('Av. Writing Score')\n",
    "plt.xlabel('Gender')\n",
    "plt.ylabel('Av. Writing Score')\n",
    "for i,v in enumerate(height):\n",
    "    plt.text(i, v, \" \"+str(round(v,2)), color='k', ha = 'center', fontweight='bold')\n",
    "\n",
    "plt.show()"
   ]
  },
  {
   "cell_type": "raw",
   "metadata": {},
   "source": [
    "This shows that Male students performed better in mathematics than female students but worse in both reading and writing."
   ]
  },
  {
   "cell_type": "code",
   "execution_count": 14,
   "metadata": {},
   "outputs": [
    {
     "data": {
      "text/html": [
       "<div>\n",
       "<style scoped>\n",
       "    .dataframe tbody tr th:only-of-type {\n",
       "        vertical-align: middle;\n",
       "    }\n",
       "\n",
       "    .dataframe tbody tr th {\n",
       "        vertical-align: top;\n",
       "    }\n",
       "\n",
       "    .dataframe thead th {\n",
       "        text-align: right;\n",
       "    }\n",
       "</style>\n",
       "<table border=\"1\" class=\"dataframe\">\n",
       "  <thead>\n",
       "    <tr style=\"text-align: right;\">\n",
       "      <th></th>\n",
       "      <th>gender</th>\n",
       "      <th>race/ethnicity</th>\n",
       "      <th>parental level of education</th>\n",
       "      <th>lunch</th>\n",
       "      <th>test preparation course</th>\n",
       "      <th>math score</th>\n",
       "      <th>reading score</th>\n",
       "      <th>writing score</th>\n",
       "      <th>total score</th>\n",
       "    </tr>\n",
       "  </thead>\n",
       "  <tbody>\n",
       "    <tr>\n",
       "      <th>0</th>\n",
       "      <td>female</td>\n",
       "      <td>group B</td>\n",
       "      <td>bachelor's degree</td>\n",
       "      <td>standard</td>\n",
       "      <td>none</td>\n",
       "      <td>72</td>\n",
       "      <td>72</td>\n",
       "      <td>74</td>\n",
       "      <td>218</td>\n",
       "    </tr>\n",
       "    <tr>\n",
       "      <th>1</th>\n",
       "      <td>female</td>\n",
       "      <td>group C</td>\n",
       "      <td>some college</td>\n",
       "      <td>standard</td>\n",
       "      <td>completed</td>\n",
       "      <td>69</td>\n",
       "      <td>90</td>\n",
       "      <td>88</td>\n",
       "      <td>247</td>\n",
       "    </tr>\n",
       "    <tr>\n",
       "      <th>2</th>\n",
       "      <td>female</td>\n",
       "      <td>group B</td>\n",
       "      <td>master's degree</td>\n",
       "      <td>standard</td>\n",
       "      <td>none</td>\n",
       "      <td>90</td>\n",
       "      <td>95</td>\n",
       "      <td>93</td>\n",
       "      <td>278</td>\n",
       "    </tr>\n",
       "    <tr>\n",
       "      <th>3</th>\n",
       "      <td>male</td>\n",
       "      <td>group A</td>\n",
       "      <td>associate's degree</td>\n",
       "      <td>free/reduced</td>\n",
       "      <td>none</td>\n",
       "      <td>47</td>\n",
       "      <td>57</td>\n",
       "      <td>44</td>\n",
       "      <td>148</td>\n",
       "    </tr>\n",
       "    <tr>\n",
       "      <th>4</th>\n",
       "      <td>male</td>\n",
       "      <td>group C</td>\n",
       "      <td>some college</td>\n",
       "      <td>standard</td>\n",
       "      <td>none</td>\n",
       "      <td>76</td>\n",
       "      <td>78</td>\n",
       "      <td>75</td>\n",
       "      <td>229</td>\n",
       "    </tr>\n",
       "  </tbody>\n",
       "</table>\n",
       "</div>"
      ],
      "text/plain": [
       "   gender race/ethnicity parental level of education         lunch  \\\n",
       "0  female        group B           bachelor's degree      standard   \n",
       "1  female        group C                some college      standard   \n",
       "2  female        group B             master's degree      standard   \n",
       "3    male        group A          associate's degree  free/reduced   \n",
       "4    male        group C                some college      standard   \n",
       "\n",
       "  test preparation course  math score  reading score  writing score  \\\n",
       "0                    none          72             72             74   \n",
       "1               completed          69             90             88   \n",
       "2                    none          90             95             93   \n",
       "3                    none          47             57             44   \n",
       "4                    none          76             78             75   \n",
       "\n",
       "   total score  \n",
       "0          218  \n",
       "1          247  \n",
       "2          278  \n",
       "3          148  \n",
       "4          229  "
      ]
     },
     "execution_count": 14,
     "metadata": {},
     "output_type": "execute_result"
    }
   ],
   "source": [
    "#Adding a column of total score in the dataframe for deep insights and better analysis\n",
    "df['total score'] = df['math score'] + df['reading score'] + df['writing score']\n",
    "df.head()"
   ]
  },
  {
   "cell_type": "code",
   "execution_count": 1,
   "metadata": {},
   "outputs": [
    {
     "ename": "NameError",
     "evalue": "name 'df_gender' is not defined",
     "output_type": "error",
     "traceback": [
      "\u001b[1;31m---------------------------------------------------------------------------\u001b[0m",
      "\u001b[1;31mNameError\u001b[0m                                 Traceback (most recent call last)",
      "\u001b[1;32m<ipython-input-1-522e8f0db531>\u001b[0m in \u001b[0;36m<module>\u001b[1;34m\u001b[0m\n\u001b[0;32m      1\u001b[0m \u001b[1;31m#Average scores of Females and Males\u001b[0m\u001b[1;33m\u001b[0m\u001b[1;33m\u001b[0m\u001b[1;33m\u001b[0m\u001b[0m\n\u001b[1;32m----> 2\u001b[1;33m \u001b[0my\u001b[0m \u001b[1;33m=\u001b[0m \u001b[0mdf_gender\u001b[0m\u001b[1;33m[\u001b[0m\u001b[1;34m'total score'\u001b[0m\u001b[1;33m]\u001b[0m\u001b[1;33m.\u001b[0m\u001b[0mmean\u001b[0m\u001b[1;33m(\u001b[0m\u001b[1;33m)\u001b[0m\u001b[1;33m.\u001b[0m\u001b[0mkeys\u001b[0m\u001b[1;33m(\u001b[0m\u001b[1;33m)\u001b[0m\u001b[1;33m\u001b[0m\u001b[1;33m\u001b[0m\u001b[0m\n\u001b[0m\u001b[0;32m      3\u001b[0m \u001b[0mwidth\u001b[0m \u001b[1;33m=\u001b[0m \u001b[0mdf_gender\u001b[0m\u001b[1;33m[\u001b[0m\u001b[1;34m'total score'\u001b[0m\u001b[1;33m]\u001b[0m\u001b[1;33m.\u001b[0m\u001b[0mmean\u001b[0m\u001b[1;33m(\u001b[0m\u001b[1;33m)\u001b[0m\u001b[1;33m\u001b[0m\u001b[1;33m\u001b[0m\u001b[0m\n\u001b[0;32m      4\u001b[0m \u001b[0mplt\u001b[0m\u001b[1;33m.\u001b[0m\u001b[0mfigure\u001b[0m\u001b[1;33m(\u001b[0m\u001b[0mfigsize\u001b[0m \u001b[1;33m=\u001b[0m \u001b[1;33m(\u001b[0m\u001b[1;36m12\u001b[0m\u001b[1;33m,\u001b[0m\u001b[1;36m2\u001b[0m\u001b[1;33m)\u001b[0m\u001b[1;33m)\u001b[0m\u001b[1;33m\u001b[0m\u001b[1;33m\u001b[0m\u001b[0m\n\u001b[0;32m      5\u001b[0m \u001b[0mplt\u001b[0m\u001b[1;33m.\u001b[0m\u001b[0mbarh\u001b[0m\u001b[1;33m(\u001b[0m\u001b[0my\u001b[0m \u001b[1;33m=\u001b[0m \u001b[0my\u001b[0m\u001b[1;33m,\u001b[0m\u001b[0mwidth\u001b[0m \u001b[1;33m=\u001b[0m \u001b[0mwidth\u001b[0m\u001b[1;33m,\u001b[0m\u001b[0mcolor\u001b[0m\u001b[1;33m=\u001b[0m\u001b[1;34m'purple'\u001b[0m\u001b[1;33m,\u001b[0m\u001b[0mheight\u001b[0m\u001b[1;33m=\u001b[0m\u001b[1;36m0.6\u001b[0m\u001b[1;33m)\u001b[0m\u001b[1;33m\u001b[0m\u001b[1;33m\u001b[0m\u001b[0m\n",
      "\u001b[1;31mNameError\u001b[0m: name 'df_gender' is not defined"
     ]
    }
   ],
   "source": [
    "#Average scores of Females and Males\n",
    "y = df_gender['total score'].mean().keys()\n",
    "width = df_gender['total score'].mean()\n",
    "plt.figure(figsize = (12,2))\n",
    "plt.barh(y = y,width = width,color='purple',height=0.6)\n",
    "plt.title('Avg score of Female and Males')\n",
    "plt.xlabel('Avg total score out of 300')\n",
    "plt.ylabel('Gender')\n",
    "for i,v in enumerate(width):\n",
    "    plt.text(v, i, \" \"+str(round(v,2)), color='k', va='center', fontweight='bold')\n",
    "plt.show()"
   ]
  },
  {
   "cell_type": "markdown",
   "metadata": {},
   "source": [
    "From the above graph it can be inferred that Female students have performed well compared to male students."
   ]
  },
  {
   "cell_type": "code",
   "execution_count": null,
   "metadata": {},
   "outputs": [],
   "source": [
    "#Box plot \n",
    "sns.boxplot(x=\"gender\", y=\"total score\", data=df)"
   ]
  },
  {
   "cell_type": "code",
   "execution_count": null,
   "metadata": {
    "scrolled": true
   },
   "outputs": [],
   "source": [
    "#Violin plot\n",
    "sns.violinplot(x='gender',y='total score',data=df,inner='quartile',color='lightgreen')"
   ]
  },
  {
   "cell_type": "markdown",
   "metadata": {},
   "source": [
    "# Analyzing scores based on Race/Ethnicity"
   ]
  },
  {
   "cell_type": "code",
   "execution_count": null,
   "metadata": {},
   "outputs": [],
   "source": [
    "df_race = df.groupby('race/ethnicity')"
   ]
  },
  {
   "cell_type": "code",
   "execution_count": null,
   "metadata": {},
   "outputs": [],
   "source": [
    "#Count of studensts belonging to different race/ethnicity groups using bar graph\n",
    "y = df_race['race/ethnicity'].count().keys()\n",
    "width = df_race['race/ethnicity'].count()\n",
    "plt.figure(figsize = (12,4))\n",
    "plt.barh(y = y,width = width)\n",
    "plt.title('No. of Students of Different Race/Ethnicity Groups')\n",
    "plt.xlabel('Count')\n",
    "plt.ylabel('Race/Ethnicity')\n",
    "for i,v in enumerate(width):\n",
    "    plt.text(v, i, \" \"+str(v), color='blue', va='center', fontweight='bold')\n",
    "plt.show()"
   ]
  },
  {
   "cell_type": "code",
   "execution_count": null,
   "metadata": {},
   "outputs": [],
   "source": [
    "#Count of studensts belonging to different race/ethnicity groups using pie chart\n",
    "import matplotlib.pyplot as plt\n",
    "import numpy as np\n",
    "#group = df.groupby('race/ethnicity').size()\n",
    "groups = ['group A\\n(89)', 'group B\\n[190]', 'group C\\n[319]', 'group D\\n[262]', 'group E\\n[140]']\n",
    "data = [89,190,319,262,240]\n",
    "fig = plt.figure(figsize =(10, 7))\n",
    "plt.pie(data,shadow=True,labels=groups, autopct='%.2f',explode=(0.0,0.0,0.1,0.0,0.0),colors=['orange','blue','lightgreen','m','red'])\n"
   ]
  },
  {
   "cell_type": "code",
   "execution_count": null,
   "metadata": {},
   "outputs": [],
   "source": [
    "#Average scores in individual subject based on Race/Ethnicity\n",
    "x = df_race['total score'].mean().keys()\n",
    "\n",
    "plt.figure(figsize=(20,5))\n",
    "\n",
    "plt.subplot(1,3,1)\n",
    "height = df_race['math score'].mean()\n",
    "plt.bar(x = x,height = height,color='orange',width=0.5)\n",
    "plt.title('Avg Math Score')\n",
    "plt.xlabel('Race/Ethnicity')\n",
    "plt.ylabel('Avg Math Score')\n",
    "for i,v in enumerate(height):\n",
    "    plt.text(i, v, \" \"+str(round(v,2)), color='blue', ha='center', fontweight='bold')\n",
    "\n",
    "plt.subplot(1,3,2)\n",
    "height = df_race['reading score'].mean()\n",
    "plt.bar(x = x,height = height,color='blue',width=0.5)\n",
    "plt.title('Avg Reading Score')\n",
    "plt.xlabel('Race/Ethnicity')\n",
    "plt.ylabel('Avg Reading Score')\n",
    "for i,v in enumerate(height):\n",
    "    plt.text(i, v, \" \"+str(round(v,2)), color='blue', ha='center', fontweight='bold')\n",
    "\n",
    "plt.subplot(1,3,3)\n",
    "height = df_race['writing score'].mean()\n",
    "plt.bar(x = x,height = height,color='green',width=0.5)\n",
    "plt.title('Avg Writing Score')\n",
    "plt.xlabel('Race/Ethnicity')\n",
    "plt.ylabel('Avg Writing Score')\n",
    "for i,v in enumerate(height):\n",
    "    plt.text(i, v, \" \"+str(round(v,2)), color='blue', ha = 'center', fontweight='bold')\n",
    "\n",
    "plt.show()\n"
   ]
  },
  {
   "cell_type": "markdown",
   "metadata": {},
   "source": [
    "These plots show that students belonging to group E have performed well in all the subjects while group A students perforemed worst in all the subjects "
   ]
  },
  {
   "cell_type": "code",
   "execution_count": null,
   "metadata": {},
   "outputs": [],
   "source": [
    "#Average score of students in different race/ethnicity groups\n",
    "y = df_race['total score'].mean().keys()\n",
    "width = df_race['total score'].mean()\n",
    "plt.figure(figsize = (12,4))\n",
    "plt.barh(y = y,width = width,color='grey')\n",
    "plt.title('Mean Scores of Students of Different Race/Ethnicity Groups')\n",
    "plt.xlabel('Mean score')\n",
    "plt.ylabel('Race/Ehtnicity')\n",
    "for i,v in enumerate(width):\n",
    "    plt.text(v, i, \" \"+str(round(v,2)), color='k', va='center', fontweight='bold')\n",
    "plt.show()"
   ]
  },
  {
   "cell_type": "markdown",
   "metadata": {},
   "source": [
    "From this we can say that Group E students performed the best and Group A students performed the worst."
   ]
  },
  {
   "cell_type": "code",
   "execution_count": null,
   "metadata": {},
   "outputs": [],
   "source": [
    "plt.figure(figsize = (12,4))\n",
    "sns.boxplot(x=\"race/ethnicity\", y=\"total score\", data=df)"
   ]
  },
  {
   "cell_type": "code",
   "execution_count": null,
   "metadata": {},
   "outputs": [],
   "source": [
    "plt.figure(figsize=(12, 6))\n",
    "sns.violinplot(x='race/ethnicity',y='total score',data=df, inner=None,color='lightgreen')"
   ]
  },
  {
   "cell_type": "markdown",
   "metadata": {},
   "source": [
    "# Analyzing Scores based on Parental Level of Education"
   ]
  },
  {
   "cell_type": "code",
   "execution_count": null,
   "metadata": {},
   "outputs": [],
   "source": [
    "df_parental = df.groupby('parental level of education')"
   ]
  },
  {
   "cell_type": "code",
   "execution_count": null,
   "metadata": {},
   "outputs": [],
   "source": [
    "#Counting students based on the parental level of education by bar graph\n",
    "y = df_parental['parental level of education'].count().keys()\n",
    "width = df_parental['parental level of education'].count()\n",
    "plt.figure(figsize = (12,4))\n",
    "plt.barh(y = y,width = width)\n",
    "plt.title('No. of Students based on parental level of education')\n",
    "plt.xlabel('Count')\n",
    "plt.ylabel('Parental level of education')\n",
    "for i,v in enumerate(width):\n",
    "    plt.text(v, i, \" \"+str(v), color='blue', va='center', fontweight='bold')\n",
    "plt.show()"
   ]
  },
  {
   "cell_type": "code",
   "execution_count": null,
   "metadata": {},
   "outputs": [],
   "source": [
    "#PIE CHART\n",
    "import matplotlib.pyplot as plt\n",
    "import numpy as np\n",
    "#group = df.groupby('race/ethnicity').size()\n",
    "groups = ['Some high school\\n[179]','some college\\n[226]','masters degree\\n[59]','high school\\n[196]','bachelors degree\\n[118]','associates degree\\n[222]']\n",
    "data = [179,226,59,196,118,222]\n",
    "fig = plt.figure(figsize =(10, 7))\n",
    "plt.pie(data,shadow=True,labels=groups, autopct='%.2f',explode=(0.0,0.1,0.0,0.0,0.0,0.0),colors=['orange','blue','lightgreen','m','red','grey'])\n"
   ]
  },
  {
   "cell_type": "code",
   "execution_count": null,
   "metadata": {},
   "outputs": [],
   "source": [
    "#Mean scores of students in individual subjects based on parental level of education \n",
    "x = df_parental['total score'].mean().keys()\n",
    "\n",
    "plt.figure(figsize=(20,18))\n",
    "\n",
    "plt.subplot(3,1,1)\n",
    "height = df_parental['math score'].mean()\n",
    "plt.bar(x = x,height = height,color='y',width=0.4)\n",
    "plt.title('Avg Math Score')\n",
    "plt.xlabel('parental level if education')\n",
    "plt.ylabel('Avg Math Score')\n",
    "for i,v in enumerate(height):\n",
    "    plt.text(i, v, \" \"+str(round(v,2)), color='blue', ha='center', fontweight='bold')\n",
    "\n",
    "plt.subplot(3,1,2)\n",
    "height = df_parental['reading score'].mean()\n",
    "plt.bar(x = x,height = height,width=0.4,color='purple')\n",
    "plt.title('Avg Reading Score')\n",
    "plt.xlabel('parental level if education')\n",
    "plt.ylabel('Avg Reading Score')\n",
    "for i,v in enumerate(height):\n",
    "    plt.text(i, v, \" \"+str(round(v,2)), color='blue', ha='center', fontweight='bold')\n",
    "\n",
    "plt.subplot(3,1,3)\n",
    "height = df_parental['writing score'].mean()\n",
    "plt.bar(x = x,height = height,width=0.4,color='green')\n",
    "plt.title('Avg Writing Score')\n",
    "plt.xlabel('parental level if education')\n",
    "plt.ylabel('Avg Writing Score')\n",
    "for i,v in enumerate(height):\n",
    "    plt.text(i, v, \" \"+str(round(v,2)), color='blue', ha = 'center', fontweight='bold')\n",
    "plt.show()"
   ]
  },
  {
   "cell_type": "code",
   "execution_count": null,
   "metadata": {},
   "outputs": [],
   "source": [
    "#Mean score of students based on the parental level of education\n",
    "y = df_parental['total score'].mean().keys()\n",
    "width = df_parental['total score'].mean()\n",
    "plt.figure(figsize = (12,4))\n",
    "plt.barh(y = y,width = width,color='y')\n",
    "plt.title('Mean score of Students based on parental level of education')\n",
    "plt.xlabel('Mean total score')\n",
    "plt.ylabel('Parental levelof education')\n",
    "for i,v in enumerate(width):\n",
    "    plt.text(v, i, \" \"+str(round(v,2)), color='blue', va='center', fontweight='bold')\n",
    "plt.show()"
   ]
  },
  {
   "cell_type": "markdown",
   "metadata": {},
   "source": [
    "From this we may infer that Education level of parents effected the performance of the students to some extent"
   ]
  },
  {
   "cell_type": "code",
   "execution_count": null,
   "metadata": {},
   "outputs": [],
   "source": [
    "#Box plot\n",
    "plt.figure(figsize = (12,4))\n",
    "sns.boxplot(x=\"parental level of education\", y=\"total score\", data=df)"
   ]
  },
  {
   "cell_type": "markdown",
   "metadata": {},
   "source": [
    "# Analysis of scores based on Lunch"
   ]
  },
  {
   "cell_type": "code",
   "execution_count": null,
   "metadata": {},
   "outputs": [],
   "source": [
    "df_lunch = df.groupby('lunch')"
   ]
  },
  {
   "cell_type": "code",
   "execution_count": null,
   "metadata": {},
   "outputs": [],
   "source": [
    "# Counting students according to lunch type\n",
    "y = df_lunch['lunch'].count().keys()\n",
    "width = df_lunch['lunch'].count()\n",
    "plt.figure(figsize = (10,2))\n",
    "plt.barh(y = y,width = width,height=0.6,color='orange')\n",
    "plt.title('No. of Students acc. to lunch type')\n",
    "plt.xlabel('Count')\n",
    "plt.ylabel('Lunch')\n",
    "for i,v in enumerate(width):\n",
    "    plt.text(v, i, \" \"+str(v), color='blue', va='center', fontweight='bold')\n",
    "plt.show()"
   ]
  },
  {
   "cell_type": "code",
   "execution_count": null,
   "metadata": {},
   "outputs": [],
   "source": [
    "#Mean scores of students in individual subjects based on lunch\n",
    "x = df_lunch['total score'].mean().keys()\n",
    "\n",
    "plt.figure(figsize=(12,4))\n",
    "\n",
    "plt.subplot(1,3,1)\n",
    "height = df_lunch['math score'].mean()\n",
    "plt.bar(x = x,height = height,width=0.5,color='green')\n",
    "plt.title('Av. Math Score')\n",
    "plt.xlabel('Gender')\n",
    "plt.ylabel('Av. Math Score')\n",
    "for i,v in enumerate(height):\n",
    "    plt.text(i, v, \" \"+str(round(v,2)), color='blue', ha='center', fontweight='bold')\n",
    "\n",
    "plt.subplot(1,3,2)\n",
    "height = df_lunch['reading score'].mean()\n",
    "plt.bar(x = x,height = height,width=0.5,)\n",
    "plt.title('Avg Reading Score')\n",
    "plt.xlabel('Gender')\n",
    "plt.ylabel('Avg Reading Score')\n",
    "for i,v in enumerate(height):\n",
    "    plt.text(i, v, \" \"+str(round(v,2)), color='blue', ha='center', fontweight='bold')\n",
    "\n",
    "plt.subplot(1,3,3)\n",
    "height = df_lunch['writing score'].mean()\n",
    "plt.bar(x = x,height = height,width=0.5,color='red')\n",
    "plt.title('Avg Writing Score')\n",
    "plt.xlabel('Gender')\n",
    "plt.ylabel('Avg Writing Score')\n",
    "for i,v in enumerate(height):\n",
    "    plt.text(i, v, \" \"+str(round(v,2)), color='blue', ha = 'center', fontweight='bold')\n",
    "\n",
    "plt.show()"
   ]
  },
  {
   "cell_type": "code",
   "execution_count": null,
   "metadata": {},
   "outputs": [],
   "source": [
    "#Mean score of students according to lunch type\n",
    "y = df_lunch['total score'].mean().keys()\n",
    "width = df_lunch['total score'].mean()\n",
    "plt.figure(figsize = (10,2))\n",
    "plt.barh(y = y,width = width,height=0.6,color='b')\n",
    "plt.title('Mean total score of Students in Different Lunch categories')\n",
    "plt.xlabel('Mean total score')\n",
    "plt.ylabel('Lunch')\n",
    "for i,v in enumerate(width):\n",
    "    plt.text(v, i, \" \"+str(round(v,2)), color='y', va='center', fontweight='bold')\n",
    "plt.show()"
   ]
  },
  {
   "cell_type": "markdown",
   "metadata": {},
   "source": [
    "From this we can infer that students who consume standard lunch are performing better than those who consume free/reduced lunch"
   ]
  },
  {
   "cell_type": "code",
   "execution_count": null,
   "metadata": {},
   "outputs": [],
   "source": [
    "plt.figure(figsize = (8,4))\n",
    "sns.boxplot(x=\"lunch\", y=\"total score\", data=df)"
   ]
  },
  {
   "cell_type": "markdown",
   "metadata": {},
   "source": [
    "# Analyzing students scores based on Test preparation course"
   ]
  },
  {
   "cell_type": "code",
   "execution_count": null,
   "metadata": {},
   "outputs": [],
   "source": [
    "df_test = df.groupby('test preparation course')"
   ]
  },
  {
   "cell_type": "code",
   "execution_count": null,
   "metadata": {},
   "outputs": [],
   "source": [
    "#Count of students based on test preparation course\n",
    "y = df_test['test preparation course'].count().keys()\n",
    "width = df_test['test preparation course'].count()\n",
    "plt.figure(figsize = (10,2))\n",
    "plt.barh(y = y, width = width,height=0.6,color='y')\n",
    "plt.title('No. of Students with and without test preparation course')\n",
    "plt.xlabel('Count')\n",
    "plt.ylabel('Test preparation course')\n",
    "for i,v in enumerate(width):\n",
    "    plt.text(v, i, \" \"+str(v), color='blue', va='center', fontweight='bold')\n",
    "plt.show()"
   ]
  },
  {
   "cell_type": "code",
   "execution_count": null,
   "metadata": {},
   "outputs": [],
   "source": [
    "#Individual scores based on test preparation course\n",
    "x = df_test['total score'].mean().keys()\n",
    "\n",
    "plt.figure(figsize=(12,4))\n",
    "\n",
    "plt.subplot(1,3,1)\n",
    "height = df_test['math score'].mean()\n",
    "plt.bar(x = x, height = height,width=0.5,color='grey')\n",
    "plt.title('Avg Math Score')\n",
    "plt.xlabel('Test preparation course')\n",
    "plt.ylabel('Avg Math Score')\n",
    "for i,v in enumerate(height):\n",
    "    plt.text(i, v, \" \"+str(round(v,2)), color='k', ha='center', fontweight='bold')\n",
    "\n",
    "plt.subplot(1,3,2)\n",
    "height = df_test['reading score'].mean()\n",
    "plt.bar(x = x,height = height,width=0.5,color='brown')\n",
    "plt.title('Avg Reading Score')\n",
    "plt.xlabel('Test preparation course')\n",
    "plt.ylabel('AvgReading Score')\n",
    "for i,v in enumerate(height):\n",
    "    plt.text(i, v, \" \"+str(round(v,2)), color='k', ha='center', fontweight='bold')\n",
    "\n",
    "plt.subplot(1,3,3)\n",
    "height = df_test['writing score'].mean()\n",
    "plt.bar(x = x,height = height,width=0.5,color='green')\n",
    "plt.title('Avg Writing Score')\n",
    "plt.xlabel('Test preparation course')\n",
    "plt.ylabel('Avg Writing Score')\n",
    "for i,v in enumerate(height):\n",
    "    plt.text(i, v, \" \"+str(round(v,2)), color='k', ha = 'center', fontweight='bold')\n",
    "\n",
    "plt.show()"
   ]
  },
  {
   "cell_type": "code",
   "execution_count": null,
   "metadata": {},
   "outputs": [],
   "source": [
    "#Mean scores of students based on test preparation course\n",
    "y = df_test['total score'].mean().keys()\n",
    "width = df_test['total score'].mean()\n",
    "plt.figure(figsize = (10,2))\n",
    "plt.barh(y = y,width = width,height=0.6,color='purple')\n",
    "plt.title('Mean total score of Students with and without a test preparation course')\n",
    "plt.xlabel('Mean total score')\n",
    "plt.ylabel('Test preparation course')\n",
    "for i,v in enumerate(width):\n",
    "    plt.text(v, i, \" \"+str(round(v,2)), color='blue', va='center', fontweight='bold')\n",
    "plt.show()"
   ]
  },
  {
   "cell_type": "markdown",
   "metadata": {},
   "source": [
    "This shows that students who took test preparation course performed better than those who didn't."
   ]
  },
  {
   "cell_type": "code",
   "execution_count": null,
   "metadata": {},
   "outputs": [],
   "source": [
    "plt.figure(figsize = (8,4))\n",
    "sns.boxplot(x=\"test preparation course\", y=\"total score\", data=df)"
   ]
  },
  {
   "cell_type": "code",
   "execution_count": null,
   "metadata": {},
   "outputs": [],
   "source": [
    "df_fail_all = df[(df['math score'] < 40) & (df['reading score'] < 40) & (df['writing score'] < 40)]\n",
    "df_fail_all.head()"
   ]
  },
  {
   "cell_type": "code",
   "execution_count": null,
   "metadata": {},
   "outputs": [],
   "source": [
    "y = df['test preparation course'].unique().tolist()\n",
    "x = [0]*len(y)\n",
    "for i in range(len(y)):\n",
    "    x[i] += df_fail_all[df_fail_all['test preparation course'] == y[i]]['gender'].count()\n",
    "width = x\n",
    "\n",
    "plt.figure(figsize = (10,2))\n",
    "plt.barh(y = y,width = width,height=0.5)\n",
    "plt.title('No. of students who failed all subjects based on test preparation course')\n",
    "plt.xlabel('Count')\n",
    "plt.ylabel('Test preparation course')\n",
    "for i,v in enumerate(width):\n",
    "    plt.text(v, i, \" \"+str(v), color='blue', va='center', fontweight='bold')\n",
    "plt.show()"
   ]
  },
  {
   "cell_type": "markdown",
   "metadata": {},
   "source": [
    "Conclusion:\n",
    "1. Female students perform better than male students on the whole whereas male students did well in maths \n",
    "2. Considering the groups Group E performed well while group A the least in all the subjects .\n",
    "3. High parental control improves the score of the students\n",
    "4. Consumption of standard lunch seems to help with the performance of the students\n",
    "5. Test preparation has helped the students to score more."
   ]
  },
  {
   "cell_type": "code",
   "execution_count": null,
   "metadata": {},
   "outputs": [],
   "source": []
  }
 ],
 "metadata": {
  "kernelspec": {
   "display_name": "Python 3",
   "language": "python",
   "name": "python3"
  },
  "language_info": {
   "codemirror_mode": {
    "name": "ipython",
    "version": 3
   },
   "file_extension": ".py",
   "mimetype": "text/x-python",
   "name": "python",
   "nbconvert_exporter": "python",
   "pygments_lexer": "ipython3",
   "version": "3.7.6"
  }
 },
 "nbformat": 4,
 "nbformat_minor": 4
}
